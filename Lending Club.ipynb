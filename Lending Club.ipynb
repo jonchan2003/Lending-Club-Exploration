{
 "cells": [
  {
   "cell_type": "markdown",
   "metadata": {},
   "source": [
    "# Lending Club - Initial Data Exploration for Feasiblity as Demo Data "
   ]
  },
  {
   "cell_type": "markdown",
   "metadata": {
    "_cell_guid": "1fe82ae5-0067-4e56-8d79-42f4462570a8",
    "_uuid": "a96de9b231224035018a73c3e1ef9b5e66e80d57"
   },
   "source": [
    "I have done a quick exploration of the data below to vertify if the Lending Club Data is sufficient to cover most of the techniques required in the demo. "
   ]
  },
  {
   "cell_type": "code",
   "execution_count": 4,
   "metadata": {
    "_cell_guid": "ee9b1fd9-512e-486a-83d3-01fe7d53e9f7",
    "_kg_hide-output": true,
    "_uuid": "30641b524574d863dc3e0918fb07cdde21fff269"
   },
   "outputs": [],
   "source": [
    "library(tidyverse)\n",
    "library(zoo)\n",
    "library(arules)"
   ]
  },
  {
   "cell_type": "markdown",
   "metadata": {
    "_cell_guid": "fe36c99d-9fee-416d-b6e3-da06b6292a37",
    "_uuid": "3ad8bbfe6cc7f4700ed7b4745e4e916c63d3e218"
   },
   "source": [
    "## Loading Data\n",
    "There are two data sets one for loans that are accepted and another for loans that are rejected. They are split because they have a different number of variables."
   ]
  },
  {
   "cell_type": "code",
   "execution_count": null,
   "metadata": {
    "_cell_guid": "a047499f-04a2-41ee-85c6-52252fcfac4d",
    "_execution_state": "idle",
    "_kg_hide-input": false,
    "_kg_hide-output": true,
    "_uuid": "e4df0054c88a84f1d5a7e691538080438a513f83",
    "scrolled": false
   },
   "outputs": [
    {
     "name": "stderr",
     "output_type": "stream",
     "text": [
      "Parsed with column specification:\n",
      "cols(\n",
      "  .default = col_double(),\n",
      "  id = col_integer(),\n",
      "  member_id = col_character(),\n",
      "  term = col_character(),\n",
      "  grade = col_character(),\n",
      "  sub_grade = col_character(),\n",
      "  emp_title = col_character(),\n",
      "  emp_length = col_character(),\n",
      "  home_ownership = col_character(),\n",
      "  verification_status = col_character(),\n",
      "  issue_d = col_character(),\n",
      "  loan_status = col_character(),\n",
      "  pymnt_plan = col_character(),\n",
      "  url = col_character(),\n",
      "  desc = col_character(),\n",
      "  purpose = col_character(),\n",
      "  title = col_character(),\n",
      "  zip_code = col_character(),\n",
      "  addr_state = col_character(),\n",
      "  earliest_cr_line = col_character(),\n",
      "  initial_list_status = col_character()\n",
      "  # ... with 31 more columns\n",
      ")\n",
      "See spec(...) for full column specifications.\n",
      "Warning message in rbind(names(probs), probs_f):\n",
      "\"number of columns of result is not a multiple of vector length (arg 1)\"Warning message:\n",
      "\"31 parsing failures.\n",
      "row # A tibble: 5 x 5 col      row col   expected   actual                                     file       expected    <int> <chr> <chr>      <chr>                                      <chr>      actual 1 103547 id    an integer Total amount funded in policy code 1: 146~ <connecti~ file 2 103548 id    an integer Total amount funded in policy code 2: 521~ <connecti~ row 3 143335 id    an integer Loans that do not meet the credit policy   <connecti~ col 4 146085 id    an integer Total amount funded in policy code 1: 460~ <connecti~ expected 5 146086 id    an integer Total amount funded in policy code 2: 0    <connecti~\n",
      "... ................. ... ............................................................................... ........ ............................................................................... ...... ............................................................................... .... ............................................................................... ... ............................................................................... ... ............................................................................... ........ ...............................................................................\n",
      "See problems(...) for more details.\n",
      "\""
     ]
    }
   ],
   "source": [
    "#read in the zipped data from the kaggle data input\n",
    "accepted_def <- read_csv(gzfile(\"C:/Users/smytmc/accepted_2007_to_2018Q3.csv.gz\"));\n",
    "rejected_def <- read_csv(gzfile(\"C:/Users/smytmc/rejected_2007_to_2018Q3.csv.gz\"));"
   ]
  },
  {
   "cell_type": "code",
   "execution_count": 7,
   "metadata": {
    "_cell_guid": "58af6bd1-eadf-4607-b546-56b9b16d9b84",
    "_uuid": "ebffb894c9765c837c8c0899eac057a5c3462b7c",
    "scrolled": true
   },
   "outputs": [
    {
     "name": "stdout",
     "output_type": "stream",
     "text": [
      "Observations: 2,132,287\n",
      "Variables: 151\n",
      "$ id                                         <int> 93999587, 96219354, 9630...\n",
      "$ member_id                                  <chr> NA, NA, NA, NA, NA, NA, ...\n",
      "$ loan_amnt                                  <dbl> 19200, 7000, 12000, 6000...\n",
      "$ funded_amnt                                <dbl> 19200, 7000, 12000, 6000...\n",
      "$ funded_amnt_inv                            <dbl> 19200, 7000, 12000, 6000...\n",
      "$ term                                       <chr> \"36 months\", \"36 months\"...\n",
      "$ int_rate                                   <dbl> 13.99, 5.32, 16.99, 7.49...\n",
      "$ installment                                <dbl> 656.12, 210.81, 427.78, ...\n",
      "$ grade                                      <chr> \"C\", \"A\", \"D\", \"A\", \"B\",...\n",
      "$ sub_grade                                  <chr> \"C3\", \"A1\", \"D1\", \"A4\", ...\n",
      "$ emp_title                                  <chr> \"Foreman\", \"Nurse\", NA, ...\n",
      "$ emp_length                                 <chr> \"10+ years\", \"2 years\", ...\n",
      "$ home_ownership                             <chr> \"MORTGAGE\", \"RENT\", \"REN...\n",
      "$ annual_inc                                 <dbl> 75000.0, 85000.0, 30000....\n",
      "$ verification_status                        <chr> \"Not Verified\", \"Not Ver...\n",
      "$ issue_d                                    <chr> \"Dec-2016\", \"Dec-2016\", ...\n",
      "$ loan_status                                <chr> \"Current\", \"Current\", \"F...\n",
      "$ pymnt_plan                                 <chr> \"n\", \"n\", \"n\", \"n\", \"n\",...\n",
      "$ url                                        <chr> \"https://lendingclub.com...\n",
      "$ desc                                       <chr> NA, NA, NA, NA, NA, NA, ...\n",
      "$ purpose                                    <chr> \"home_improvement\", \"deb...\n",
      "$ title                                      <chr> \"Home improvement\", \"Deb...\n",
      "$ zip_code                                   <chr> \"531xx\", \"112xx\", \"982xx...\n",
      "$ addr_state                                 <chr> \"WI\", \"NY\", \"WA\", \"GA\", ...\n",
      "$ dti                                        <dbl> 16.98, 12.80, 9.26, 20.0...\n",
      "$ delinq_2yrs                                <dbl> 0, 1, 0, 0, 0, 0, 0, 0, ...\n",
      "$ earliest_cr_line                           <chr> \"Dec-2003\", \"Feb-1992\", ...\n",
      "$ fico_range_low                             <dbl> 740, 705, 665, 705, 665,...\n",
      "$ fico_range_high                            <dbl> 744, 709, 669, 709, 669,...\n",
      "$ inq_last_6mths                             <dbl> 0, 0, 0, 0, 1, 0, 0, 1, ...\n",
      "$ mths_since_last_delinq                     <dbl> NA, 20, NA, 63, NA, NA, ...\n",
      "$ mths_since_last_record                     <dbl> NA, 30, 72, NA, 74, NA, ...\n",
      "$ open_acc                                   <dbl> 8, 14, 3, 7, 4, 16, 13, ...\n",
      "$ pub_rec                                    <dbl> 0, 1, 3, 0, 1, 0, 0, 0, ...\n",
      "$ revol_bal                                  <dbl> 12802, 6565, 8862, 12442...\n",
      "$ revol_util                                 <dbl> 59.8, 19.7, 38.2, 39.6, ...\n",
      "$ total_acc                                  <dbl> 12, 17, 5, 22, 9, 25, 22...\n",
      "$ initial_list_status                        <chr> \"w\", \"w\", \"w\", \"w\", \"f\",...\n",
      "$ out_prncp                                  <dbl> 7057.74, 2458.06, 0.00, ...\n",
      "$ out_prncp_inv                              <dbl> 7057.74, 2458.06, 0.00, ...\n",
      "$ total_pymnt                                <dbl> 15909.570, 5054.270, 141...\n",
      "$ total_pymnt_inv                            <dbl> 15909.57, 5054.27, 14188...\n",
      "$ total_rec_prncp                            <dbl> 12142.26, 4541.94, 12000...\n",
      "$ total_rec_int                              <dbl> 3767.31, 512.33, 2188.81...\n",
      "$ total_rec_late_fee                         <dbl> 0.00, 0.00, 0.00, 0.00, ...\n",
      "$ recoveries                                 <dbl> 0.00, 0.00, 0.00, 0.00, ...\n",
      "$ collection_recovery_fee                    <dbl> 0.0000, 0.0000, 0.0000, ...\n",
      "$ last_pymnt_d                               <chr> \"Jan-2019\", \"Jan-2019\", ...\n",
      "$ last_pymnt_amnt                            <dbl> 656.12, 210.81, 8228.21,...\n",
      "$ next_pymnt_d                               <chr> \"Feb-2019\", \"Feb-2019\", ...\n",
      "$ last_credit_pull_d                         <chr> \"Jan-2019\", \"Jan-2019\", ...\n",
      "$ last_fico_range_high                       <dbl> 739, 709, 799, 804, 714,...\n",
      "$ last_fico_range_low                        <dbl> 735, 705, 795, 800, 710,...\n",
      "$ collections_12_mths_ex_med                 <dbl> 0, 0, 0, 0, 0, 0, 0, 0, ...\n",
      "$ mths_since_last_major_derog                <dbl> NA, NA, NA, 63, NA, NA, ...\n",
      "$ policy_code                                <dbl> 1, 1, 1, 1, 1, 1, 1, 1, ...\n",
      "$ application_type                           <chr> \"Individual\", \"Individua...\n",
      "$ annual_inc_joint                           <dbl> NA, NA, NA, NA, NA, NA, ...\n",
      "$ dti_joint                                  <dbl> NA, NA, NA, NA, NA, NA, ...\n",
      "$ verification_status_joint                  <chr> NA, NA, NA, NA, NA, NA, ...\n",
      "$ acc_now_delinq                             <dbl> 0, 0, 0, 0, 0, 0, 0, 0, ...\n",
      "$ tot_coll_amt                               <dbl> 0, 0, 0, 0, 0, 0, 0, 0, ...\n",
      "$ tot_cur_bal                                <dbl> 243746, 42606, 8862, 457...\n",
      "$ open_acc_6m                                <dbl> 0, 0, 1, 0, 0, 0, 0, 0, ...\n",
      "$ open_act_il                                <dbl> 2, 2, 0, 2, 1, 3, 6, 1, ...\n",
      "$ open_il_12m                                <dbl> 0, 0, 0, 1, 0, 1, 0, 0, ...\n",
      "$ open_il_24m                                <dbl> 2, 0, 0, 1, 0, 3, 0, 1, ...\n",
      "$ mths_since_rcnt_il                         <dbl> 15, 30, NA, 8, 40, 10, 2...\n",
      "$ total_bal_il                               <dbl> 6341, 36041, 0, 33276, 1...\n",
      "$ il_util                                    <dbl> 39, 90, NA, 84, 50, 57, ...\n",
      "$ open_rv_12m                                <dbl> 0, 2, 2, 0, 1, 0, 0, 0, ...\n",
      "$ open_rv_24m                                <dbl> 0, 4, 2, 5, 1, 2, 0, 3, ...\n",
      "$ max_bal_bc                                 <dbl> 4126, 1157, 8617, 4910, ...\n",
      "$ all_util                                   <dbl> 57, 58, 38, 64, 50, 67, ...\n",
      "$ total_rev_hi_lim                           <dbl> 21400, 33300, 23200, 314...\n",
      "$ inq_fi                                     <dbl> 0, 0, 0, 3, 0, 0, 0, 0, ...\n",
      "$ total_cu_tl                                <dbl> 0, 0, 0, 0, 0, 3, 4, 1, ...\n",
      "$ inq_last_12m                               <dbl> 0, 0, 2, 4, 1, 0, 0, 4, ...\n",
      "$ acc_open_past_24mths                       <dbl> 3, 4, 2, 6, 1, 5, 0, 5, ...\n",
      "$ avg_cur_bal                                <dbl> 30468, 3043, 2954, 6531,...\n",
      "$ bc_open_to_buy                             <dbl> 7136, 15577, 14338, 1418...\n",
      "$ bc_util                                    <dbl> 53.4, 16.7, 38.2, 40.7, ...\n",
      "$ chargeoff_within_12_mths                   <dbl> 0, 0, 0, 0, 0, 0, 0, 0, ...\n",
      "$ delinq_amnt                                <dbl> 0, 0, 0, 0, 0, 0, 0, 0, ...\n",
      "$ mo_sin_old_il_acct                         <dbl> 111, 70, NA, 165, 40, 11...\n",
      "$ mo_sin_old_rev_tl_op                       <dbl> 80, 298, 241, 138, 314, ...\n",
      "$ mo_sin_rcnt_rev_tl_op                      <dbl> 26, 9, 0, 15, 10, 16, 51...\n",
      "$ mo_sin_rcnt_tl                             <dbl> 15, 9, 0, 8, 10, 10, 29,...\n",
      "$ mort_acc                                   <dbl> 3, 0, 0, 1, 1, 0, 3, 3, ...\n",
      "$ mths_since_recent_bc                       <dbl> 47, 9, 0, 94, 10, 23, 96...\n",
      "$ mths_since_recent_bc_dlq                   <dbl> NA, 20, NA, 71, NA, NA, ...\n",
      "$ mths_since_recent_inq                      <dbl> 15, 18, 10, 9, 3, 16, NA...\n",
      "$ mths_since_recent_revol_delinq             <dbl> NA, 20, NA, 71, NA, NA, ...\n",
      "$ num_accts_ever_120_pd                      <dbl> 0, 0, 0, 2, 0, 0, 0, 0, ...\n",
      "$ num_actv_bc_tl                             <dbl> 2, 4, 3, 3, 2, 8, 0, 3, ...\n",
      "$ num_actv_rev_tl                            <dbl> 3, 7, 3, 4, 2, 12, 2, 3,...\n",
      "$ num_bc_sats                                <dbl> 2, 6, 3, 3, 2, 8, 2, 4, ...\n",
      "$ num_bc_tl                                  <dbl> 2, 7, 4, 7, 4, 10, 6, 7,...\n",
      "$ num_il_tl                                  <dbl> 3, 2, 0, 8, 1, 7, 7, 10,...\n",
      "$ num_op_rev_tl                              <dbl> 3, 12, 3, 5, 3, 13, 5, 7...\n",
      "$ num_rev_accts                              <dbl> 4, 15, 5, 13, 7, 18, 11,...\n",
      "$ num_rev_tl_bal_gt_0                        <dbl> 3, 7, 3, 4, 2, 12, 2, 3,...\n",
      "$ num_sats                                   <dbl> 8, 14, 3, 7, 4, 16, 13, ...\n",
      "$ num_tl_120dpd_2m                           <dbl> 0, 0, 0, 0, 0, 0, 0, 0, ...\n",
      "$ num_tl_30dpd                               <dbl> 0, 0, 0, 0, 0, 0, 0, 0, ...\n",
      "$ num_tl_90g_dpd_24m                         <dbl> 0, 0, 0, 0, 0, 0, 0, 0, ...\n",
      "$ num_tl_op_past_12m                         <dbl> 0, 2, 2, 1, 1, 1, 0, 0, ...\n",
      "$ pct_tl_nvr_dlq                             <dbl> 100.0, 88.2, 100.0, 90.9...\n",
      "$ percent_bc_gt_75                           <dbl> 0.0, 0.0, 0.0, 33.3, 0.0...\n",
      "$ pub_rec_bankruptcies                       <dbl> 0, 0, 0, 0, 1, 0, 0, 0, ...\n",
      "$ tax_liens                                  <dbl> 0, 0, 3, 0, 0, 0, 0, 0, ...\n",
      "$ tot_hi_cred_lim                            <dbl> 277588, 73420, 23200, 70...\n",
      "$ total_bal_ex_mort                          <dbl> 24788, 42606, 8862, 4571...\n",
      "$ total_bc_limit                             <dbl> 15300, 18700, 23200, 239...\n",
      "$ total_il_high_credit_limit                 <dbl> 16273, 40120, 0, 39549, ...\n",
      "$ revol_bal_joint                            <chr> NA, NA, NA, NA, NA, NA, ...\n",
      "$ sec_app_fico_range_low                     <chr> NA, NA, NA, NA, NA, NA, ...\n",
      "$ sec_app_fico_range_high                    <chr> NA, NA, NA, NA, NA, NA, ...\n",
      "$ sec_app_earliest_cr_line                   <chr> NA, NA, NA, NA, NA, NA, ...\n",
      "$ sec_app_inq_last_6mths                     <chr> NA, NA, NA, NA, NA, NA, ...\n",
      "$ sec_app_mort_acc                           <chr> NA, NA, NA, NA, NA, NA, ...\n",
      "$ sec_app_open_acc                           <chr> NA, NA, NA, NA, NA, NA, ...\n",
      "$ sec_app_revol_util                         <chr> NA, NA, NA, NA, NA, NA, ...\n",
      "$ sec_app_open_act_il                        <chr> NA, NA, NA, NA, NA, NA, ...\n",
      "$ sec_app_num_rev_accts                      <chr> NA, NA, NA, NA, NA, NA, ...\n",
      "$ sec_app_chargeoff_within_12_mths           <chr> NA, NA, NA, NA, NA, NA, ...\n",
      "$ sec_app_collections_12_mths_ex_med         <chr> NA, NA, NA, NA, NA, NA, ...\n",
      "$ sec_app_mths_since_last_major_derog        <chr> NA, NA, NA, NA, NA, NA, ...\n",
      "$ hardship_flag                              <chr> \"N\", \"N\", \"N\", \"N\", \"N\",...\n",
      "$ hardship_type                              <chr> NA, NA, NA, NA, NA, NA, ...\n",
      "$ hardship_reason                            <chr> NA, NA, NA, NA, NA, NA, ...\n",
      "$ hardship_status                            <chr> NA, NA, NA, NA, NA, NA, ...\n",
      "$ deferral_term                              <dbl> NA, NA, NA, NA, NA, NA, ...\n",
      "$ hardship_amount                            <dbl> NA, NA, NA, NA, NA, NA, ...\n",
      "$ hardship_start_date                        <chr> NA, NA, NA, NA, NA, NA, ...\n",
      "$ hardship_end_date                          <chr> NA, NA, NA, NA, NA, NA, ...\n",
      "$ payment_plan_start_date                    <chr> NA, NA, NA, NA, NA, NA, ...\n",
      "$ hardship_length                            <dbl> NA, NA, NA, NA, NA, NA, ...\n",
      "$ hardship_dpd                               <dbl> NA, NA, NA, NA, NA, NA, ...\n",
      "$ hardship_loan_status                       <chr> NA, NA, NA, NA, NA, NA, ...\n",
      "$ orig_projected_additional_accrued_interest <dbl> NA, NA, NA, NA, NA, NA, ...\n",
      "$ hardship_payoff_balance_amount             <dbl> NA, NA, NA, NA, NA, NA, ...\n",
      "$ hardship_last_payment_amount               <dbl> NA, NA, NA, NA, NA, NA, ...\n",
      "$ disbursement_method                        <chr> \"Cash\", \"Cash\", \"Cash\", ...\n",
      "$ debt_settlement_flag                       <chr> \"N\", \"N\", \"N\", \"N\", \"N\",...\n",
      "$ debt_settlement_flag_date                  <chr> NA, NA, NA, NA, NA, NA, ...\n",
      "$ settlement_status                          <chr> NA, NA, NA, NA, NA, NA, ...\n",
      "$ settlement_date                            <chr> NA, NA, NA, NA, NA, NA, ...\n",
      "$ settlement_amount                          <dbl> NA, NA, NA, NA, NA, NA, ...\n",
      "$ settlement_percentage                      <dbl> NA, NA, NA, NA, NA, NA, ...\n",
      "$ settlement_term                            <dbl> NA, NA, NA, NA, NA, NA, ...\n"
     ]
    }
   ],
   "source": [
    "#takes a look at the columns available in the dataset\n",
    "glimpse(accepted_def)"
   ]
  },
  {
   "cell_type": "code",
   "execution_count": 8,
   "metadata": {
    "_cell_guid": "b48da508-2169-4d5e-b7c2-679c5ee0de2c",
    "_uuid": "3efdd2fc5e96f3164fa08920d2f2bc31099c0389"
   },
   "outputs": [
    {
     "name": "stdout",
     "output_type": "stream",
     "text": [
      "Observations: 25,054,319\n",
      "Variables: 9\n",
      "$ `Amount Requested`     <dbl> 13650, 10000, 40000, 20000, 6500, 5000, 8000...\n",
      "$ `Application Date`     <date> 2017-04-01, 2017-04-01, 2017-04-01, 2017-04...\n",
      "$ `Loan Title`           <chr> \"Debt consolidation\", \"debt_consolidation\", ...\n",
      "$ Risk_Score             <dbl> 799, NA, NA, NA, NA, NA, NA, NA, NA, 551, NA...\n",
      "$ `Debt-To-Income Ratio` <chr> \"19.98%\", \"23.09%\", \"8.83%\", \"8.55%\", \"50.26...\n",
      "$ `Zip Code`             <chr> \"616xx\", \"234xx\", \"759xx\", \"110xx\", \"980xx\",...\n",
      "$ State                  <chr> \"IL\", \"VA\", \"TX\", \"NY\", \"WA\", \"NC\", \"KS\", \"C...\n",
      "$ `Employment Length`    <chr> \"< 1 year\", \"< 1 year\", \"< 1 year\", \"< 1 yea...\n",
      "$ `Policy Code`          <dbl> 0, 0, 0, 0, 0, 0, 0, 0, 0, 0, 0, 0, 0, 0, 0,...\n"
     ]
    }
   ],
   "source": [
    "glimpse(rejected_def)"
   ]
  },
  {
   "cell_type": "markdown",
   "metadata": {
    "_cell_guid": "bd726e4c-1ba4-4e78-a1d9-444bcebb22d3",
    "_uuid": "a1139d8cf6306303802a606c138edbca81a023f6"
   },
   "source": [
    "Taking a look at the rejected data a lot of information that is in the accepted data is missing. \n",
    "\n",
    "There are a few variables that are good targets for predictive modelling: \n",
    "1. application outcome (accepted or rejected) \n",
    "2. interest rate (*int_rate*)\n",
    "3. grade of the loan (*grade*)\n",
    "4. the loan status, if paid or defaulted (*loan_status*)"
   ]
  },
  {
   "cell_type": "markdown",
   "metadata": {
    "_cell_guid": "0b06cf3a-359c-4189-9815-0a8712a09294",
    "_uuid": "7904c2c29cec380af9e9a2efbec44ee9444122f1"
   },
   "source": [
    "## Exploration\n",
    "#### Categorical\n",
    "There are too many variables to explore so we need to narrow it down to only a few. For now the exploration will be limited to the accepted loan data. "
   ]
  },
  {
   "cell_type": "code",
   "execution_count": 9,
   "metadata": {
    "_cell_guid": "0625336e-5633-4fc8-9d5c-bd168a70aab4",
    "_uuid": "87649597e4f2b872a0038ae044ef6cf2ad1decc1",
    "scrolled": true
   },
   "outputs": [
    {
     "data": {
      "text/html": [
       "<table>\n",
       "<thead><tr><th scope=col>key</th><th scope=col>value</th></tr></thead>\n",
       "<tbody>\n",
       "\t<tr><td>term              </td><td>36 months         </td></tr>\n",
       "\t<tr><td>purpose           </td><td>debt_consolidation</td></tr>\n",
       "\t<tr><td>purpose           </td><td>debt_consolidation</td></tr>\n",
       "\t<tr><td>loan_status       </td><td>Current           </td></tr>\n",
       "\t<tr><td>loan_status       </td><td>Current           </td></tr>\n",
       "</tbody>\n",
       "</table>\n"
      ],
      "text/latex": [
       "\\begin{tabular}{r|ll}\n",
       " key & value\\\\\n",
       "\\hline\n",
       "\t term               & 36 months         \\\\\n",
       "\t purpose              & debt\\_consolidation\\\\\n",
       "\t purpose              & debt\\_consolidation\\\\\n",
       "\t loan\\_status      & Current           \\\\\n",
       "\t loan\\_status      & Current           \\\\\n",
       "\\end{tabular}\n"
      ],
      "text/markdown": [
       "\n",
       "| key | value |\n",
       "|---|---|\n",
       "| term               | 36 months          |\n",
       "| purpose            | debt_consolidation |\n",
       "| purpose            | debt_consolidation |\n",
       "| loan_status        | Current            |\n",
       "| loan_status        | Current            |\n",
       "\n"
      ],
      "text/plain": [
       "  key         value             \n",
       "1 term        36 months         \n",
       "2 purpose     debt_consolidation\n",
       "3 purpose     debt_consolidation\n",
       "4 loan_status Current           \n",
       "5 loan_status Current           "
      ]
     },
     "metadata": {},
     "output_type": "display_data"
    },
    {
     "data": {
      "text/html": [
       "'number of rows of data 14,926,009'"
      ],
      "text/latex": [
       "'number of rows of data 14,926,009'"
      ],
      "text/markdown": [
       "'number of rows of data 14,926,009'"
      ],
      "text/plain": [
       "[1] \"number of rows of data 14,926,009\""
      ]
     },
     "metadata": {},
     "output_type": "display_data"
    }
   ],
   "source": [
    "# picking out cat variables to use\n",
    "cat_var <- c(\"loan_status\", \"term\", \"grade\", \"emp_length\", \"home_ownership\", \n",
    "                  \"purpose\", \"addr_state\")\n",
    "# selects only the columns desired, then transforms data from wide to long\n",
    "data_cat <- accepted_def %>% \n",
    "                select(cat_var) %>% \n",
    "                gather()\n",
    "sample_n(data_cat, 5) ## just to preview the data\n",
    "paste(\"number of rows of data\", formatC(nrow(data_cat), big.mark=\",\"))"
   ]
  },
  {
   "cell_type": "code",
   "execution_count": 10,
   "metadata": {
    "_cell_guid": "7821ff29-320c-4ba0-acb3-24f11293a685",
    "_uuid": "65ba1a365d30410e250a1072bc46368fd952a42a"
   },
   "outputs": [
    {
     "name": "stderr",
     "output_type": "stream",
     "text": [
      "Warning message:\n",
      "\"package 'bindrcpp' was built under R version 3.5.1\""
     ]
    },
    {
     "data": {
      "text/html": [
       "<table>\n",
       "<thead><tr><th scope=col>stat</th><th scope=col>distinct</th><th scope=col>max</th><th scope=col>min</th></tr></thead>\n",
       "<tbody>\n",
       "\t<tr><td>addr.state        </td><td>49                </td><td>WV                </td><td>AK                </td></tr>\n",
       "\t<tr><td>emp.length        </td><td>12                </td><td>NA                </td><td>NA                </td></tr>\n",
       "\t<tr><td>grade             </td><td>7                 </td><td>G                 </td><td>A                 </td></tr>\n",
       "\t<tr><td>home.ownership    </td><td>3                 </td><td>RENT              </td><td>MORTGAGE          </td></tr>\n",
       "\t<tr><td>loan.status       </td><td>7                 </td><td>Late (31-120 days)</td><td>Charged Off       </td></tr>\n",
       "\t<tr><td>purpose           </td><td>11                </td><td>vacation          </td><td>car               </td></tr>\n",
       "\t<tr><td>term              </td><td>2                 </td><td>60 months         </td><td>36 months         </td></tr>\n",
       "</tbody>\n",
       "</table>\n"
      ],
      "text/latex": [
       "\\begin{tabular}{r|llll}\n",
       " stat & distinct & max & min\\\\\n",
       "\\hline\n",
       "\t addr.state         & 49                 & WV                 & AK                \\\\\n",
       "\t emp.length         & 12                 & NA                 & NA                \\\\\n",
       "\t grade              & 7                  & G                  & A                 \\\\\n",
       "\t home.ownership     & 3                  & RENT               & MORTGAGE          \\\\\n",
       "\t loan.status        & 7                  & Late (31-120 days) & Charged Off       \\\\\n",
       "\t purpose            & 11                 & vacation           & car               \\\\\n",
       "\t term               & 2                  & 60 months          & 36 months         \\\\\n",
       "\\end{tabular}\n"
      ],
      "text/markdown": [
       "\n",
       "| stat | distinct | max | min |\n",
       "|---|---|---|---|\n",
       "| addr.state         | 49                 | WV                 | AK                 |\n",
       "| emp.length         | 12                 | NA                 | NA                 |\n",
       "| grade              | 7                  | G                  | A                  |\n",
       "| home.ownership     | 3                  | RENT               | MORTGAGE           |\n",
       "| loan.status        | 7                  | Late (31-120 days) | Charged Off        |\n",
       "| purpose            | 11                 | vacation           | car                |\n",
       "| term               | 2                  | 60 months          | 36 months          |\n",
       "\n"
      ],
      "text/plain": [
       "  stat           distinct max                min        \n",
       "1 addr.state     49       WV                 AK         \n",
       "2 emp.length     12       NA                 NA         \n",
       "3 grade          7        G                  A          \n",
       "4 home.ownership 3        RENT               MORTGAGE   \n",
       "5 loan.status    7        Late (31-120 days) Charged Off\n",
       "6 purpose        11       vacation           car        \n",
       "7 term           2        60 months          36 months  "
      ]
     },
     "metadata": {},
     "output_type": "display_data"
    }
   ],
   "source": [
    "sum_stats <- accepted_def %>% \n",
    "    select(loan.status=loan_status, term, grade, emp.length=emp_length, home.ownership=home_ownership, \n",
    "                  purpose, addr.state=addr_state) %>% \n",
    "    sample_n(1000) %>%\n",
    "    summarise_all(funs(min, max, distinct=n_distinct))\n",
    "\n",
    "sum_stats %>%\n",
    "    gather() %>% \n",
    "    separate(key, c(\"stat\", \"var\"), sep=\"_\", extra=\"merge\") %>%\n",
    "    spread(var, value)"
   ]
  },
  {
   "cell_type": "code",
   "execution_count": 11,
   "metadata": {
    "_cell_guid": "3fba9fc9-d04b-4e38-98bd-a3aec9a6ef81",
    "_uuid": "aefc642bbe3cba83bb641aa1bdc3c775068dfc49"
   },
   "outputs": [
    {
     "data": {
      "text/html": [
       "<table>\n",
       "<thead><tr><th scope=col>loan.status_min</th><th scope=col>term_min</th><th scope=col>grade_min</th><th scope=col>emp.length_min</th><th scope=col>home.ownership_min</th><th scope=col>purpose_min</th><th scope=col>addr.state_min</th><th scope=col>loan.status_max</th><th scope=col>term_max</th><th scope=col>grade_max</th><th scope=col>...</th><th scope=col>home.ownership_max</th><th scope=col>purpose_max</th><th scope=col>addr.state_max</th><th scope=col>loan.status_distinct</th><th scope=col>term_distinct</th><th scope=col>grade_distinct</th><th scope=col>emp.length_distinct</th><th scope=col>home.ownership_distinct</th><th scope=col>purpose_distinct</th><th scope=col>addr.state_distinct</th></tr></thead>\n",
       "<tbody>\n",
       "\t<tr><td>Charged Off       </td><td>36 months         </td><td>A                 </td><td>NA                </td><td>MORTGAGE          </td><td>car               </td><td>AK                </td><td>Late (31-120 days)</td><td>60 months         </td><td>G                 </td><td>...               </td><td>RENT              </td><td>vacation          </td><td>WV                </td><td>7                 </td><td>2                 </td><td>7                 </td><td>12                </td><td>3                 </td><td>11                </td><td>49                </td></tr>\n",
       "</tbody>\n",
       "</table>\n"
      ],
      "text/latex": [
       "\\begin{tabular}{r|lllllllllllllllllllll}\n",
       " loan.status\\_min & term\\_min & grade\\_min & emp.length\\_min & home.ownership\\_min & purpose\\_min & addr.state\\_min & loan.status\\_max & term\\_max & grade\\_max & ... & home.ownership\\_max & purpose\\_max & addr.state\\_max & loan.status\\_distinct & term\\_distinct & grade\\_distinct & emp.length\\_distinct & home.ownership\\_distinct & purpose\\_distinct & addr.state\\_distinct\\\\\n",
       "\\hline\n",
       "\t Charged Off        & 36 months          & A                  & NA                 & MORTGAGE           & car                & AK                 & Late (31-120 days) & 60 months          & G                  & ...                & RENT               & vacation           & WV                 & 7                  & 2                  & 7                  & 12                 & 3                  & 11                 & 49                \\\\\n",
       "\\end{tabular}\n"
      ],
      "text/markdown": [
       "\n",
       "| loan.status_min | term_min | grade_min | emp.length_min | home.ownership_min | purpose_min | addr.state_min | loan.status_max | term_max | grade_max | ... | home.ownership_max | purpose_max | addr.state_max | loan.status_distinct | term_distinct | grade_distinct | emp.length_distinct | home.ownership_distinct | purpose_distinct | addr.state_distinct |\n",
       "|---|---|---|---|---|---|---|---|---|---|---|---|---|---|---|---|---|---|---|---|---|\n",
       "| Charged Off        | 36 months          | A                  | NA                 | MORTGAGE           | car                | AK                 | Late (31-120 days) | 60 months          | G                  | ...                | RENT               | vacation           | WV                 | 7                  | 2                  | 7                  | 12                 | 3                  | 11                 | 49                 |\n",
       "\n"
      ],
      "text/plain": [
       "  loan.status_min term_min  grade_min emp.length_min home.ownership_min\n",
       "1 Charged Off     36 months A         NA             MORTGAGE          \n",
       "  purpose_min addr.state_min loan.status_max    term_max  grade_max ...\n",
       "1 car         AK             Late (31-120 days) 60 months G         ...\n",
       "  home.ownership_max purpose_max addr.state_max loan.status_distinct\n",
       "1 RENT               vacation    WV             7                   \n",
       "  term_distinct grade_distinct emp.length_distinct home.ownership_distinct\n",
       "1 2             7              12                  3                      \n",
       "  purpose_distinct addr.state_distinct\n",
       "1 11               49                 "
      ]
     },
     "metadata": {},
     "output_type": "display_data"
    }
   ],
   "source": [
    "head(sum_stats)"
   ]
  },
  {
   "cell_type": "code",
   "execution_count": 12,
   "metadata": {
    "_cell_guid": "a9bbaed9-deaf-4475-aab4-176cf650f96d",
    "_uuid": "055f9f988b653741e681467e338d5a8dd64988c1"
   },
   "outputs": [
    {
     "name": "stderr",
     "output_type": "stream",
     "text": [
      "Warning message:\n",
      "\"Ignoring unknown parameters: binwidth, bins, pad\""
     ]
    },
    {
     "data": {
      "image/png": "[encoded data removed]",
      "text/plain": [
       "plot without title"
      ]
     },
     "metadata": {},
     "output_type": "display_data"
    }
   ],
   "source": [
    "ggplot(data_cat, aes(value)) +\n",
    "    facet_wrap(~key, scales=\"free\") +\n",
    "    geom_histogram(stat=\"count\", color=\"white\", size=0.1) +\n",
    "    theme(axis.text.x=element_text(angle=90, hjust=1))"
   ]
  },
  {
   "cell_type": "markdown",
   "metadata": {
    "_cell_guid": "56c06045-82f7-4417-8abc-61fd305a27be",
    "_uuid": "e45dd968f83d6783bf186ee4948ba72865f01fad"
   },
   "source": [
    "The data for grade looks good, so it can be used as a taget in a predictive model. On the other hand the count of \"Default\" in loan status looks to be very small."
   ]
  },
  {
   "cell_type": "code",
   "execution_count": 13,
   "metadata": {
    "_cell_guid": "465339dd-c9da-4e5f-b50d-04416033e964",
    "_uuid": "60156114b569ff01c2845823e06f65429d63712e"
   },
   "outputs": [
    {
     "data": {
      "text/html": [
       "<table>\n",
       "<thead><tr><th scope=col>loan_status</th><th scope=col>count</th></tr></thead>\n",
       "<tbody>\n",
       "\t<tr><td>Charged Off                                        </td><td> 254777                                            </td></tr>\n",
       "\t<tr><td>Current                                            </td><td> 822105                                            </td></tr>\n",
       "\t<tr><td>Default                                            </td><td>     32                                            </td></tr>\n",
       "\t<tr><td>Does not meet the credit policy. Status:Charged Off</td><td>    761                                            </td></tr>\n",
       "\t<tr><td>Does not meet the credit policy. Status:Fully Paid </td><td>   1988                                            </td></tr>\n",
       "\t<tr><td>Fully Paid                                         </td><td>1011841                                            </td></tr>\n",
       "\t<tr><td>In Grace Period                                    </td><td>  12458                                            </td></tr>\n",
       "\t<tr><td>Late (16-30 days)                                  </td><td>   5442                                            </td></tr>\n",
       "\t<tr><td>Late (31-120 days)                                 </td><td>  22852                                            </td></tr>\n",
       "\t<tr><td>NA                                                 </td><td>     31                                            </td></tr>\n",
       "</tbody>\n",
       "</table>\n"
      ],
      "text/latex": [
       "\\begin{tabular}{r|ll}\n",
       " loan\\_status & count\\\\\n",
       "\\hline\n",
       "\t Charged Off                                         &  254777                                            \\\\\n",
       "\t Current                                             &  822105                                            \\\\\n",
       "\t Default                                             &      32                                            \\\\\n",
       "\t Does not meet the credit policy. Status:Charged Off &     761                                            \\\\\n",
       "\t Does not meet the credit policy. Status:Fully Paid  &    1988                                            \\\\\n",
       "\t Fully Paid                                          & 1011841                                            \\\\\n",
       "\t In Grace Period                                     &   12458                                            \\\\\n",
       "\t Late (16-30 days)                                   &    5442                                            \\\\\n",
       "\t Late (31-120 days)                                  &   22852                                            \\\\\n",
       "\t NA                                                  &      31                                            \\\\\n",
       "\\end{tabular}\n"
      ],
      "text/markdown": [
       "\n",
       "| loan_status | count |\n",
       "|---|---|\n",
       "| Charged Off                                         |  254777                                             |\n",
       "| Current                                             |  822105                                             |\n",
       "| Default                                             |      32                                             |\n",
       "| Does not meet the credit policy. Status:Charged Off |     761                                             |\n",
       "| Does not meet the credit policy. Status:Fully Paid  |    1988                                             |\n",
       "| Fully Paid                                          | 1011841                                             |\n",
       "| In Grace Period                                     |   12458                                             |\n",
       "| Late (16-30 days)                                   |    5442                                             |\n",
       "| Late (31-120 days)                                  |   22852                                             |\n",
       "| NA                                                  |      31                                             |\n",
       "\n"
      ],
      "text/plain": [
       "   loan_status                                         count  \n",
       "1  Charged Off                                          254777\n",
       "2  Current                                              822105\n",
       "3  Default                                                  32\n",
       "4  Does not meet the credit policy. Status:Charged Off     761\n",
       "5  Does not meet the credit policy. Status:Fully Paid     1988\n",
       "6  Fully Paid                                          1011841\n",
       "7  In Grace Period                                       12458\n",
       "8  Late (16-30 days)                                      5442\n",
       "9  Late (31-120 days)                                    22852\n",
       "10 NA                                                       31"
      ]
     },
     "metadata": {},
     "output_type": "display_data"
    }
   ],
   "source": [
    "accepted_def %>% \n",
    "    group_by(loan_status) %>% \n",
    "    summarise(count=n())"
   ]
  },
  {
   "cell_type": "markdown",
   "metadata": {
    "_cell_guid": "08c2e808-4f67-42e6-9a29-174cd1f5bca9",
    "_uuid": "deaa716a126ce9fe8b2bd86f1edb743eef0424a5"
   },
   "source": [
    "So the number of loans with a status of \"Default\" is low, but according to the Lending Club [website definition](https://help.lendingclub.com/hc/en-us/articles/216127747) it is in fact a transitionary status, which then turns into \"Charged Off\" which is the final state for a loan where funds are not likely to be recovered.\n",
    "\n",
    "There are plenty of loans that fall under \"Charged Off\" so loan_status can be used as a target for binary predictions.\n",
    "\n",
    "#### Continuous\n",
    "Doing the same for the continuos variables of interest."
   ]
  },
  {
   "cell_type": "code",
   "execution_count": 14,
   "metadata": {
    "_cell_guid": "465f292f-8ebc-478e-9713-a7823d6d560c",
    "_uuid": "6ebd8993fe5985f64552af0c790cf731fc58b6f5"
   },
   "outputs": [
    {
     "data": {
      "text/html": [
       "'number of rows of data 12,793,722'"
      ],
      "text/latex": [
       "'number of rows of data 12,793,722'"
      ],
      "text/markdown": [
       "'number of rows of data 12,793,722'"
      ],
      "text/plain": [
       "[1] \"number of rows of data 12,793,722\""
      ]
     },
     "metadata": {},
     "output_type": "display_data"
    }
   ],
   "source": [
    "cont_var <- c(\"loan_amnt\", \"funded_amnt\", \"int_rate\", \"installment\", \"annual_inc\", \"dti\")\n",
    "data_cont <- accepted_def %>% \n",
    "                    select(cont_var) %>% \n",
    "                    gather()\n",
    "paste(\"number of rows of data\", formatC(nrow(data_cont), big.mark=\",\"))"
   ]
  },
  {
   "cell_type": "code",
   "execution_count": 15,
   "metadata": {
    "_cell_guid": "1afddb16-f954-429f-9ead-c513066fe283",
    "_uuid": "10fa40af7fab30ebb65c94c6ef55b6929af125cc"
   },
   "outputs": [
    {
     "name": "stderr",
     "output_type": "stream",
     "text": [
      "`stat_bin()` using `bins = 30`. Pick better value with `binwidth`.\n",
      "Warning message:\n",
      "\"Removed 1664 rows containing non-finite values (stat_bin).\""
     ]
    },
    {
     "data": {
      "image/png": "[encoded data removed]",
      "text/plain": [
       "plot without title"
      ]
     },
     "metadata": {},
     "output_type": "display_data"
    }
   ],
   "source": [
    "ggplot(data_cont, aes(value)) +\n",
    "    facet_wrap(~key, scales=\"free\") +\n",
    "    geom_histogram(color=\"white\", size=0.1) +\n",
    "    theme(axis.text.x=element_text(angle=90, hjust=1))"
   ]
  },
  {
   "cell_type": "markdown",
   "metadata": {
    "_cell_guid": "aac84088-cb85-4f86-87de-c6c3618d78f6",
    "_uuid": "6609fe2541a6b0367de01e3223b6b45bec5e4b74"
   },
   "source": [
    "For a continuos variable that can be predicted the interest rate (int_rate) looks like a good candidate, since we would want to be able to come up with what rate to charge depending on risk."
   ]
  },
  {
   "cell_type": "markdown",
   "metadata": {
    "_cell_guid": "b25add51-b2da-4c21-b4e1-dd7667ab1c8c",
    "_uuid": "b650ea15dd6f4493547805e0ab4efa225f07d1a1"
   },
   "source": [
    "## Visualisations\n",
    "There are quite a few different variables that would make good visualisations and dashboards. \n",
    "Below is a quick plot of grade seperated into subgrades, as a possible idea of some of the visualisations that can be used for VA. For example an isurance company would be interested in the portfolio of loans and the exposure to risk. "
   ]
  },
  {
   "cell_type": "code",
   "execution_count": 16,
   "metadata": {
    "_cell_guid": "586b3e6c-9475-4ed2-b2d1-05ca0f5b6a10",
    "_uuid": "f35d4336c672f4c2f193e1b263d469778755608c"
   },
   "outputs": [
    {
     "data": {
      "image/png": "[encoded data removed]",
      "text/plain": [
       "plot without title"
      ]
     },
     "metadata": {},
     "output_type": "display_data"
    }
   ],
   "source": [
    "ggplot(accepted_def, aes(grade, fill=sub_grade)) +\n",
    "    geom_bar(stat=\"count\", color=\"white\", size=0.25)"
   ]
  },
  {
   "cell_type": "markdown",
   "metadata": {
    "_cell_guid": "335cd509-ad19-428e-aeb2-d885880a372d",
    "_uuid": "fd66247478ad9eb91b0159cec158cdf81a0ebc40"
   },
   "source": [
    "## Time series\n",
    "There is some time series data, though dates are month-year (e.g. Apr-2008) with no days."
   ]
  },
  {
   "cell_type": "code",
   "execution_count": 17,
   "metadata": {
    "_cell_guid": "0e3b3510-3f02-464e-ae78-567725611eae",
    "_uuid": "981541cf9ae485ec8d5539f406eeb7063ede6430"
   },
   "outputs": [
    {
     "data": {
      "text/html": [
       "<table>\n",
       "<thead><tr><th scope=col>issue_d</th><th scope=col>total</th></tr></thead>\n",
       "<tbody>\n",
       "\t<tr><td>2008-04-01</td><td>1811025   </td></tr>\n",
       "\t<tr><td>2009-04-01</td><td>3071350   </td></tr>\n",
       "\t<tr><td>2010-04-01</td><td>9510575   </td></tr>\n",
       "</tbody>\n",
       "</table>\n"
      ],
      "text/latex": [
       "\\begin{tabular}{r|ll}\n",
       " issue\\_d & total\\\\\n",
       "\\hline\n",
       "\t 2008-04-01 & 1811025   \\\\\n",
       "\t 2009-04-01 & 3071350   \\\\\n",
       "\t 2010-04-01 & 9510575   \\\\\n",
       "\\end{tabular}\n"
      ],
      "text/markdown": [
       "\n",
       "| issue_d | total |\n",
       "|---|---|\n",
       "| 2008-04-01 | 1811025    |\n",
       "| 2009-04-01 | 3071350    |\n",
       "| 2010-04-01 | 9510575    |\n",
       "\n"
      ],
      "text/plain": [
       "  issue_d    total  \n",
       "1 2008-04-01 1811025\n",
       "2 2009-04-01 3071350\n",
       "3 2010-04-01 9510575"
      ]
     },
     "metadata": {},
     "output_type": "display_data"
    }
   ],
   "source": [
    "# gets total amount funded by date\n",
    "amount_date <- accepted_def %>% \n",
    "                    group_by(issue_d) %>%\n",
    "                    summarise(total=sum(funded_amnt))\n",
    "# converts string to date format\n",
    "amount_date[\"issue_d\"] <- as.Date(as.yearmon(amount_date$issue_d, \"%b-%Y\")) \n",
    "head(amount_date, 3)"
   ]
  },
  {
   "cell_type": "code",
   "execution_count": 18,
   "metadata": {
    "_cell_guid": "147f8f9f-ee4b-45b5-a1f6-78191ed8b3c3",
    "_uuid": "c7d13b4b83c5637253cd5b25e2f032ebe5ba07e2"
   },
   "outputs": [
    {
     "name": "stderr",
     "output_type": "stream",
     "text": [
      "`geom_smooth()` using method = 'loess' and formula 'y ~ x'\n",
      "Warning message:\n",
      "\"Removed 1 rows containing non-finite values (stat_smooth).\"Warning message:\n",
      "\"Removed 1 rows containing missing values (position_stack).\""
     ]
    },
    {
     "data": {
      "image/png": "[encoded data removed]",
      "text/plain": [
       "plot without title"
      ]
     },
     "metadata": {},
     "output_type": "display_data"
    }
   ],
   "source": [
    "ggplot(amount_date, aes(issue_d, total)) +\n",
    "    geom_bar(stat=\"identity\", fill=\"royalblue3\", color=\"white\", size=0.1) + \n",
    "    geom_smooth(color=\"coral2\") +\n",
    "    ggtitle(\"Total Amount Loaned per Month\")"
   ]
  },
  {
   "cell_type": "markdown",
   "metadata": {
    "_cell_guid": "c043dc67-8182-4335-ad7f-6d669bfe1e47",
    "_uuid": "0d1908d60bbfc88319eb70742dac43820dcac118"
   },
   "source": [
    "## Association Analysis\n",
    "One possible associaiton analysis is between the differnet grades of loans and the outcome of the loan, e.g. is grade linked to if it becomes fully paid or charged off."
   ]
  },
  {
   "cell_type": "code",
   "execution_count": 20,
   "metadata": {
    "_cell_guid": "eb1eb9be-21f3-4048-a6a2-17a734d55b41",
    "_kg_hide-output": true,
    "_uuid": "dfb447347348b9f95688598dc8470294d6e041fa",
    "scrolled": false
   },
   "outputs": [
    {
     "name": "stderr",
     "output_type": "stream",
     "text": [
      "Warning message:\n",
      "\"Column(s) 1, 2 not logical or factor. Applying default discretization (see '? discretizeDF').\""
     ]
    },
    {
     "name": "stdout",
     "output_type": "stream",
     "text": [
      "Apriori\n",
      "\n",
      "Parameter specification:\n",
      " confidence minval smax arem  aval originalSupport maxtime support minlen\n",
      "        0.1    0.1    1 none FALSE            TRUE       5    0.01      1\n",
      " maxlen target   ext\n",
      "     10  rules FALSE\n",
      "\n",
      "Algorithmic control:\n",
      " filter tree heap memopt load sort verbose\n",
      "    0.1 TRUE TRUE  FALSE TRUE    2    TRUE\n",
      "\n",
      "Absolute minimum support count: 13101 \n",
      "\n",
      "set item appearances ...[7 item(s)] done [0.00s].\n",
      "set transactions ...[15 item(s), 1310151 transaction(s)] done [0.23s].\n",
      "sorting and recoding items ... [9 item(s)] done [0.02s].\n",
      "creating transaction tree ... done [0.52s].\n",
      "checking subsets of size 1 2 done [0.00s].\n",
      "writing ... [13 rule(s)] done [0.00s].\n",
      "creating S4 object  ... done [0.14s].\n"
     ]
    }
   ],
   "source": [
    "accepted_def2 <- accepted_def\n",
    "# only takes into account loans which are not current since current has yet to reach an outcome. \n",
    "association_data <- accepted_def2 %>% \n",
    "                        select(grade, loan_status) %>% \n",
    "                        filter(loan_status != \"Current\")\n",
    "# performs associaiton analysis where lhs rule is a grade\n",
    "association <- apriori(association_data, parameter=list(supp=0.01, conf=0.1), \n",
    "                       appearance=list(lhs=paste(\"grade=\", unique(association_data$grade), sep=\"\")))"
   ]
  },
  {
   "cell_type": "code",
   "execution_count": 21,
   "metadata": {
    "_cell_guid": "6177ad77-bbaa-4bd1-942c-644e77704f24",
    "_uuid": "5f69ae922b25c27e1dc6a0fdc5194adb7fe4acb5",
    "scrolled": true
   },
   "outputs": [
    {
     "name": "stdout",
     "output_type": "stream",
     "text": [
      "     lhs          rhs                       support    confidence lift     \n",
      "[1]  {grade=A} => {loan_status=Fully Paid}  0.15689031 0.9273797  1.2007889\n",
      "[2]  {grade=B} => {loan_status=Fully Paid}  0.24380091 0.8441182  1.0929803\n",
      "[3]  {}        => {loan_status=Fully Paid}  0.77230869 0.7723087  1.0000000\n",
      "[4]  {grade=C} => {loan_status=Fully Paid}  0.21254420 0.7443220  0.9637623\n",
      "[5]  {grade=D} => {loan_status=Fully Paid}  0.10091356 0.6614999  0.8565227\n",
      "[6]  {grade=E} => {loan_status=Fully Paid}  0.04186235 0.5829100  0.7547629\n",
      "[7]  {grade=F} => {loan_status=Fully Paid}  0.01294049 0.5205723  0.6740470\n",
      "[8]  {grade=F} => {loan_status=Charged Off} 0.01070793 0.4307603  2.2151175\n",
      "[9]  {grade=E} => {loan_status=Charged Off} 0.02647863 0.3687002  1.8959832\n",
      "[10] {grade=D} => {loan_status=Charged Off} 0.04412926 0.2892724  1.4875380\n",
      "[11] {grade=C} => {loan_status=Charged Off} 0.06170052 0.2160730  1.1111215\n",
      "[12] {}        => {loan_status=Charged Off} 0.19446384 0.1944638  1.0000000\n",
      "[13] {grade=B} => {loan_status=Charged Off} 0.03789334 0.1311991  0.6746709\n",
      "     count  \n",
      "[1]   205550\n",
      "[2]   319416\n",
      "[3]  1011841\n",
      "[4]   278465\n",
      "[5]   132212\n",
      "[6]    54846\n",
      "[7]    16954\n",
      "[8]    14029\n",
      "[9]    34691\n",
      "[10]   57816\n",
      "[11]   80837\n",
      "[12]  254777\n",
      "[13]   49646\n"
     ]
    }
   ],
   "source": [
    "association <- sort(association, by=\"confidence\", decreasing=TRUE)\n",
    "inspect(association)"
   ]
  },
  {
   "cell_type": "markdown",
   "metadata": {
    "_cell_guid": "329a8e8f-05c8-4325-bec4-03c343e8475f",
    "_uuid": "074ee9096a3e921db3b32fd7c9f7561710d92c22"
   },
   "source": [
    "From the results of the asssociation analysis there is a link between the grade of the loan the eventual outcome, e.g. grade A loans is more strongly associated with being fully paid compared to grade E. Not the most interesting of association analysis, but it is something.\n",
    "\n",
    "#### Clustering\n",
    "So far I haven't found anything that looks good for clustering the data, but some data like age can be fabricated and added to the data."
   ]
  },
  {
   "cell_type": "code",
   "execution_count": 22,
   "metadata": {
    "_cell_guid": "f0253994-1943-4892-ae20-585da41a8ecd",
    "_kg_hide-input": true,
    "_kg_hide-output": true,
    "_uuid": "3dd49bde032c56f35f5369e3286fe815a9e2a073"
   },
   "outputs": [
    {
     "name": "stderr",
     "output_type": "stream",
     "text": [
      "Warning message in log(debt_to_income):\n",
      "\"NaNs produced\"Warning message:\n",
      "\"Removed 329 rows containing missing values (geom_point).\""
     ]
    },
    {
     "data": {
      "image/png": "[encoded data removed]",
      "text/plain": [
       "plot without title"
      ]
     },
     "metadata": {},
     "output_type": "display_data"
    }
   ],
   "source": [
    "rejected <- rejected_def %>% \n",
    "                select(`Amount Requested`, `Debt-To-Income Ratio`) %>%\n",
    "                drop_na() %>%\n",
    "                mutate(\"rejected\")\n",
    "colnames(rejected) <- c(\"loan_amount\", \"debt_to_income\", \"outcome\")\n",
    "rejected[,\"debt_to_income\"] <- map(rejected[,\"debt_to_income\"], parse_number)\n",
    "\n",
    "accepted <- accepted_def %>% \n",
    "                select(loan_amnt, dti) %>%\n",
    "                drop_na() %>%\n",
    "                mutate(\"accepted\")\n",
    "colnames(accepted) <- c(\"loan_amount\", \"debt_to_income\", \"outcome\")\n",
    "\n",
    "loan_outcome <- rbind(rejected, accepted)\n",
    "ggplot(sample_n(loan_outcome, 5000), aes(log(loan_amount), log(debt_to_income), color=outcome)) + \n",
    "    geom_point(size=0.25) +\n",
    "    ylim(0, 200) +\n",
    "    xlim(0, 40000)"
   ]
  },
  {
   "cell_type": "markdown",
   "metadata": {
    "_cell_guid": "1761be7e-3678-4995-a4f4-eb154e96492b",
    "_uuid": "f1a7924a65c17b9eb19977c991b0009fdc0438e2"
   },
   "source": [
    "#### Multiple Loans\n",
    "Attempt to find individuals with multiple loans. As there are no unique IDs for individuals, it is necessary to use common variables to identify the same individuals. There are only three variables that are likely to remain the same: job title, zip code and earliest credit line. "
   ]
  },
  {
   "cell_type": "code",
   "execution_count": null,
   "metadata": {
    "_cell_guid": "cdd75263-05a0-4332-b28e-6d97243f61f7",
    "_uuid": "117f835e8c1fb5b8a0a07d3f48dfb3af298598d0"
   },
   "outputs": [],
   "source": [
    "multi_loan <- accepted_def %>%\n",
    "                select(emp_title, zip_code, earliest_cr_line) %>%\n",
    "                na.omit() %>%\n",
    "                group_by(emp_title, zip_code, earliest_cr_line) %>%\n",
    "                summarise(count = n()) %>%\n",
    "                arrange(desc(count))\n",
    "head(multi_loan, 10)"
   ]
  },
  {
   "cell_type": "markdown",
   "metadata": {
    "_cell_guid": "f4aa2844-42db-49bc-a664-119fad88342b",
    "_uuid": "b60bc0ece5a3ef4ae9208295391cc81620c01b10"
   },
   "source": [
    "The variables are too general making it difficult to tell which are unique individuals. For example with a loan term of 3 or 5 years it is unlikely that somebody has taken out 7 loans within 10 years, and it more likely that there is overlap occuring. "
   ]
  },
  {
   "cell_type": "code",
   "execution_count": null,
   "metadata": {
    "_cell_guid": "34a228b2-a262-49de-bcb7-b6fedb56d919",
    "_kg_hide-input": true,
    "_kg_hide-output": true,
    "_uuid": "a9c0b5b31eac9e2f15b48220b96b915315c39fe5"
   },
   "outputs": [],
   "source": []
  },
  {
   "cell_type": "markdown",
   "metadata": {
    "_cell_guid": "a3fc0cfc-ce49-4f0a-a4cd-2241cd16c458",
    "_uuid": "4974ac1554f861e1909d093c6be1db42d381864f"
   },
   "source": [
    "#### Age proxy\n",
    "There are a few metrics that might act as a proxy for the age of the individual: the length of time they have had credit, zip code mean age, length of time in employment. \n",
    "\n",
    "Employment caterogy ends at 10+ years, which is also the mode, so that would not work as a proxy. \n",
    "\n",
    "Census data can be found and population age mean by zip code can be used, assuming even uptake of Lending Club amongst all age demographics.\n",
    "\n",
    "In this case the **credit_years** is determined by taking the **loan issue date** (issue_d) and subtracting by **earliest credit line** (earliest_cr_line). This would work as a proxy as long as the underlying assumption that everybody gets their first line of credit around the same age is true. "
   ]
  },
  {
   "cell_type": "code",
   "execution_count": 24,
   "metadata": {
    "_cell_guid": "74714158-c86c-44ba-ace6-35dda85832ec",
    "_uuid": "50f6d0d5d72f3e995763ed4c5de201bda5a40466",
    "scrolled": false
   },
   "outputs": [
    {
     "name": "stderr",
     "output_type": "stream",
     "text": [
      "Warning message:\n",
      "\"Ignoring unknown parameters: binwidth, bins, pad\"Warning message:\n",
      "\"Removed 51 rows containing non-finite values (stat_count).\""
     ]
    },
    {
     "data": {
      "text/plain": [
       "\n",
       "\tWelch Two Sample t-test\n",
       "\n",
       "data:  credit_years by loan_status\n",
       "t = -37.546, df = 393870, p-value < 2.2e-16\n",
       "alternative hypothesis: true difference in means is not equal to 0\n",
       "95 percent confidence interval:\n",
       " -0.6543612 -0.5894325\n",
       "sample estimates:\n",
       "mean in group Charged Off  mean in group Fully Paid \n",
       "                  15.7480                   16.3699 \n"
      ]
     },
     "metadata": {},
     "output_type": "display_data"
    },
    {
     "data": {
      "image/png": "[encoded data removed]",
      "text/plain": [
       "plot without title"
      ]
     },
     "metadata": {},
     "output_type": "display_data"
    }
   ],
   "source": [
    "# takes the value from issue date and converts it to year month format, turns it into a date, takes the number of days between the two date times\n",
    "# divides by days in year to get number of years, rounds the value, converts to numeric, and adds to the data.\n",
    "accepted_def_age <- accepted_def %>% \n",
    "                        mutate(credit_years = as.numeric(round(difftime(as.Date(as.yearmon(accepted_def[[\"issue_d\"]], \"%b-%Y\")), \n",
    "                                                             as.Date(as.yearmon(accepted_def[[\"earliest_cr_line\"]], \"%b-%Y\")), units=\"days\")/365.25)))\n",
    "credit_years_data <- accepted_def_age %>% \n",
    "                        select(loan_status, credit_years) %>% \n",
    "                        filter(loan_status %in% c(\"Charged Off\", \"Fully Paid\")) %>%\n",
    "                        na.omit()\n",
    "ggplot(credit_years_data, aes(x=credit_years)) + \n",
    "    geom_histogram(stat=\"count\", fill=\"royalblue3\", color=\"white\", size=0.1) +\n",
    "    xlim(0, 60)\n",
    "t.test(credit_years~loan_status, data=credit_anova_data)"
   ]
  },
  {
   "cell_type": "markdown",
   "metadata": {},
   "source": [
    "Thus concludes the initial exploration. Identified are a few good avenues to explore when it comes to modelling the data.\n",
    "Overall easibility of producing a predictive model from this data set for demo purposes is decent."
   ]
  },
  {
   "cell_type": "code",
   "execution_count": null,
   "metadata": {},
   "outputs": [],
   "source": []
  },
  {
   "cell_type": "code",
   "execution_count": null,
   "metadata": {},
   "outputs": [],
   "source": []
  }
 ],
 "metadata": {
  "kernelspec": {
   "display_name": "R",
   "language": "R",
   "name": "ir"
  },
  "language_info": {
   "codemirror_mode": "r",
   "file_extension": ".r",
   "mimetype": "text/x-r-source",
   "name": "R",
   "pygments_lexer": "r",
   "version": "3.5.0"
  }
 },
 "nbformat": 4,
 "nbformat_minor": 1
}
